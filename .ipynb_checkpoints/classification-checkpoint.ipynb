{
 "cells": [
  {
   "cell_type": "code",
   "execution_count": 12,
   "id": "c7c4418c-495d-436f-a36b-bc86999b08b5",
   "metadata": {
    "ExecuteTime": {
     "end_time": "2023-10-22T19:55:32.463277600Z",
     "start_time": "2023-10-22T19:55:32.445021300Z"
    }
   },
   "outputs": [],
   "source": [
    "import numpy as np\n",
    "import pandas as pd\n",
    "import warnings\n",
    "warnings.filterwarnings(\"ignore\") \n",
    "\n",
    "# For processing\n",
    "import math\n",
    "import random\n",
    "import datetime as dt\n",
    "import matplotlib.dates as mdates\n",
    "\n",
    "# For visualization\n",
    "import matplotlib.pyplot as plt\n",
    "\n",
    "# Libraries for model training\n",
    "import tensorflow as tf\n",
    "from sklearn.preprocessing import MinMaxScaler\n",
    "from tensorflow.keras.models import Sequential\n",
    "from tensorflow.keras.layers import LSTM, Dense, Dropout, Flatten, Conv2D, MaxPooling2D\n",
    "from tensorflow.keras.callbacks import ModelCheckpoint, EarlyStopping\n",
    "from sklearn.metrics import mean_squared_error\n",
    "from sklearn.model_selection import train_test_split\n"
   ]
  },
  {
   "cell_type": "code",
   "execution_count": 13,
   "id": "f5ad79e8-38a4-46fe-bdd0-0f37ae4f925f",
   "metadata": {
    "ExecuteTime": {
     "end_time": "2023-10-22T19:55:32.542027200Z",
     "start_time": "2023-10-22T19:55:32.447651900Z"
    }
   },
   "outputs": [
    {
     "data": {
      "text/plain": "        Date      Open      High       Low     Close  Adj Close      Volume  \\\n0 1986-03-13  0.088542  0.101562  0.088542  0.097222   0.062378  1031788800   \n1 1986-03-14  0.097222  0.102431  0.097222  0.100694   0.064606   308160000   \n2 1986-03-17  0.100694  0.103299  0.100694  0.102431   0.065720   133171200   \n3 1986-03-18  0.102431  0.103299  0.098958  0.099826   0.064049    67766400   \n4 1986-03-19  0.099826  0.100694  0.097222  0.098090   0.062935    47894400   \n\n   Difference  Movement  \n0         NaN         0  \n1    0.003472         1  \n2    0.001736         1  \n3   -0.002604         0  \n4   -0.001736         0  ",
      "text/html": "<div>\n<style scoped>\n    .dataframe tbody tr th:only-of-type {\n        vertical-align: middle;\n    }\n\n    .dataframe tbody tr th {\n        vertical-align: top;\n    }\n\n    .dataframe thead th {\n        text-align: right;\n    }\n</style>\n<table border=\"1\" class=\"dataframe\">\n  <thead>\n    <tr style=\"text-align: right;\">\n      <th></th>\n      <th>Date</th>\n      <th>Open</th>\n      <th>High</th>\n      <th>Low</th>\n      <th>Close</th>\n      <th>Adj Close</th>\n      <th>Volume</th>\n      <th>Difference</th>\n      <th>Movement</th>\n    </tr>\n  </thead>\n  <tbody>\n    <tr>\n      <th>0</th>\n      <td>1986-03-13</td>\n      <td>0.088542</td>\n      <td>0.101562</td>\n      <td>0.088542</td>\n      <td>0.097222</td>\n      <td>0.062378</td>\n      <td>1031788800</td>\n      <td>NaN</td>\n      <td>0</td>\n    </tr>\n    <tr>\n      <th>1</th>\n      <td>1986-03-14</td>\n      <td>0.097222</td>\n      <td>0.102431</td>\n      <td>0.097222</td>\n      <td>0.100694</td>\n      <td>0.064606</td>\n      <td>308160000</td>\n      <td>0.003472</td>\n      <td>1</td>\n    </tr>\n    <tr>\n      <th>2</th>\n      <td>1986-03-17</td>\n      <td>0.100694</td>\n      <td>0.103299</td>\n      <td>0.100694</td>\n      <td>0.102431</td>\n      <td>0.065720</td>\n      <td>133171200</td>\n      <td>0.001736</td>\n      <td>1</td>\n    </tr>\n    <tr>\n      <th>3</th>\n      <td>1986-03-18</td>\n      <td>0.102431</td>\n      <td>0.103299</td>\n      <td>0.098958</td>\n      <td>0.099826</td>\n      <td>0.064049</td>\n      <td>67766400</td>\n      <td>-0.002604</td>\n      <td>0</td>\n    </tr>\n    <tr>\n      <th>4</th>\n      <td>1986-03-19</td>\n      <td>0.099826</td>\n      <td>0.100694</td>\n      <td>0.097222</td>\n      <td>0.098090</td>\n      <td>0.062935</td>\n      <td>47894400</td>\n      <td>-0.001736</td>\n      <td>0</td>\n    </tr>\n  </tbody>\n</table>\n</div>"
     },
     "execution_count": 13,
     "metadata": {},
     "output_type": "execute_result"
    }
   ],
   "source": [
    "ticker = \"MSFT\"\n",
    "\n",
    "df = pd.read_csv(f'data/stocks/{ticker}.csv', parse_dates=['Date'])\n",
    "df[\"Difference\"] = df[\"Close\"].diff()\n",
    "df[\"Movement\"] = df.apply(lambda x: 1 if x[\"Difference\"] > 0 else 0, axis=1)\n",
    "df.head()"
   ]
  },
  {
   "cell_type": "code",
   "execution_count": 14,
   "id": "a4e2d5da-9823-4ad2-87ce-bea6e1736d62",
   "metadata": {
    "ExecuteTime": {
     "end_time": "2023-10-22T19:55:32.563639700Z",
     "start_time": "2023-10-22T19:55:32.542027200Z"
    }
   },
   "outputs": [
    {
     "data": {
      "text/plain": "          Date      Open      High       Low     Close  Adj Close     Volume  \\\n962 1990-01-02  0.605903  0.616319  0.598090  0.616319   0.395434   53033600   \n963 1990-01-03  0.621528  0.626736  0.614583  0.619792   0.397661  113772800   \n964 1990-01-04  0.619792  0.638889  0.616319  0.638021   0.409357  125740800   \n965 1990-01-05  0.635417  0.638889  0.621528  0.622396   0.399332   69564800   \n966 1990-01-08  0.621528  0.631944  0.614583  0.631944   0.405459   58982400   \n\n     Difference  Movement  \n962    0.012153         1  \n963    0.003472         1  \n964    0.018229         1  \n965   -0.015625         0  \n966    0.009549         1  ",
      "text/html": "<div>\n<style scoped>\n    .dataframe tbody tr th:only-of-type {\n        vertical-align: middle;\n    }\n\n    .dataframe tbody tr th {\n        vertical-align: top;\n    }\n\n    .dataframe thead th {\n        text-align: right;\n    }\n</style>\n<table border=\"1\" class=\"dataframe\">\n  <thead>\n    <tr style=\"text-align: right;\">\n      <th></th>\n      <th>Date</th>\n      <th>Open</th>\n      <th>High</th>\n      <th>Low</th>\n      <th>Close</th>\n      <th>Adj Close</th>\n      <th>Volume</th>\n      <th>Difference</th>\n      <th>Movement</th>\n    </tr>\n  </thead>\n  <tbody>\n    <tr>\n      <th>962</th>\n      <td>1990-01-02</td>\n      <td>0.605903</td>\n      <td>0.616319</td>\n      <td>0.598090</td>\n      <td>0.616319</td>\n      <td>0.395434</td>\n      <td>53033600</td>\n      <td>0.012153</td>\n      <td>1</td>\n    </tr>\n    <tr>\n      <th>963</th>\n      <td>1990-01-03</td>\n      <td>0.621528</td>\n      <td>0.626736</td>\n      <td>0.614583</td>\n      <td>0.619792</td>\n      <td>0.397661</td>\n      <td>113772800</td>\n      <td>0.003472</td>\n      <td>1</td>\n    </tr>\n    <tr>\n      <th>964</th>\n      <td>1990-01-04</td>\n      <td>0.619792</td>\n      <td>0.638889</td>\n      <td>0.616319</td>\n      <td>0.638021</td>\n      <td>0.409357</td>\n      <td>125740800</td>\n      <td>0.018229</td>\n      <td>1</td>\n    </tr>\n    <tr>\n      <th>965</th>\n      <td>1990-01-05</td>\n      <td>0.635417</td>\n      <td>0.638889</td>\n      <td>0.621528</td>\n      <td>0.622396</td>\n      <td>0.399332</td>\n      <td>69564800</td>\n      <td>-0.015625</td>\n      <td>0</td>\n    </tr>\n    <tr>\n      <th>966</th>\n      <td>1990-01-08</td>\n      <td>0.621528</td>\n      <td>0.631944</td>\n      <td>0.614583</td>\n      <td>0.631944</td>\n      <td>0.405459</td>\n      <td>58982400</td>\n      <td>0.009549</td>\n      <td>1</td>\n    </tr>\n  </tbody>\n</table>\n</div>"
     },
     "execution_count": 14,
     "metadata": {},
     "output_type": "execute_result"
    }
   ],
   "source": [
    "# Defining a function that will contain stocks data for a specific company\n",
    "def specific_data(company, df, start = dt.datetime(1990,1,1), end = dt.datetime(2024,1,1)):\n",
    "    # df[\"Name\"] = company\n",
    "    date_filtered_data = df[(df['Date'] > start) & (df['Date'] < end)]\n",
    "    return date_filtered_data\n",
    "\n",
    "df = specific_data(ticker, df)\n",
    "\n",
    "df.head()"
   ]
  },
  {
   "cell_type": "code",
   "execution_count": 15,
   "id": "4c1beab5-aca6-48db-ab93-287e9f098a32",
   "metadata": {
    "ExecuteTime": {
     "end_time": "2023-10-22T19:55:32.596065900Z",
     "start_time": "2023-10-22T19:55:32.563639700Z"
    }
   },
   "outputs": [
    {
     "name": "stdout",
     "output_type": "stream",
     "text": [
      "[0.01695938], [-0.01014324], \n",
      "(6097, 8)\n",
      "(1525, 8)\n"
     ]
    }
   ],
   "source": [
    "scaler = MinMaxScaler()\n",
    "close_scaler = MinMaxScaler()\n",
    "without_date = df.drop( \"Date\", axis=\"columns\")\n",
    "\n",
    "df_train, df_test = train_test_split(without_date, test_size=0.2, shuffle=False)\n",
    "\n",
    "close_scaler.fit(np.array(df_train[\"Close\"]).reshape(-1,1))\n",
    "print(f\"{close_scaler.scale_}, {close_scaler.min_}, \")\n",
    "scaled_train = scaler.fit_transform(df_train)\n",
    "scaled_test = scaler.transform(df_test)\n",
    "\n",
    "print(scaled_train.shape)\n",
    "print(scaled_test.shape)"
   ]
  },
  {
   "cell_type": "code",
   "execution_count": 16,
   "id": "8878a9d9-82f4-426e-aacb-213cc2680bec",
   "metadata": {
    "ExecuteTime": {
     "end_time": "2023-10-22T19:55:32.711887200Z",
     "start_time": "2023-10-22T19:55:32.596065900Z"
    }
   },
   "outputs": [
    {
     "name": "stdout",
     "output_type": "stream",
     "text": [
      "Training set size:-\n",
      "(6089, 8, 8, 1)\n",
      "(6089,)\n",
      "Testing set size:-\n",
      "(1517, 8, 8, 1)\n",
      "(1517,)\n"
     ]
    },
    {
     "data": {
      "text/plain": "(None, None)"
     },
     "execution_count": 16,
     "metadata": {},
     "output_type": "execute_result"
    }
   ],
   "source": [
    "past = 8\n",
    "\n",
    "# Prepare sequences for LSTM\n",
    "X_train, y_train = [], []\n",
    "for i in range(past, len(scaled_train)):\n",
    "    X_train.append(scaled_train[i - past:i])\n",
    "    y_train.append(scaled_train[i][-1])\n",
    "X_train, y_train = np.array(X_train), np.array(y_train)\n",
    "\n",
    "# Similarly prepare sequences for the test set\n",
    "X_test, y_test = [], []\n",
    "for i in range(past, len(scaled_test)):\n",
    "    X_test.append(scaled_test[i - past:i])\n",
    "    y_test.append(scaled_test[i][-1])\n",
    "X_test, y_test = np.array(X_test), np.array(y_test)\n",
    "\n",
    "X_test = np.reshape(X_test, (X_test.shape[0], X_test.shape[1], X_test.shape[2], 1))\n",
    "X_train = np.reshape(X_train, (X_train.shape[0], X_train.shape[1], X_train.shape[2], 1))\n",
    "\n",
    "print(\"Training set size:-\")\n",
    "print(X_train.shape), print(y_train.shape)\n",
    "print(\"Testing set size:-\")\n",
    "print(X_test.shape), print(y_test.shape)"
   ]
  },
  {
   "cell_type": "code",
   "execution_count": 17,
   "id": "ac1a88a5-4e28-4127-bd8c-b2d416b1973d",
   "metadata": {
    "ExecuteTime": {
     "end_time": "2023-10-22T19:55:32.727546300Z",
     "start_time": "2023-10-22T19:55:32.609003300Z"
    }
   },
   "outputs": [
    {
     "data": {
      "text/plain": "\"\\ny_Train = tf.keras.utils.to_categorical(\\n    y_train, num_classes=2, dtype='float32'\\n)\\ny_Test = tf.keras.utils.to_categorical(\\n    y_test, num_classes=2, dtype='float32'\\n)\\n\""
     },
     "execution_count": 17,
     "metadata": {},
     "output_type": "execute_result"
    }
   ],
   "source": [
    "y_Train = tf.keras.utils.to_categorical(\n",
    "    y_train, num_classes=2, dtype='float32'\n",
    ")\n",
    "y_Test = tf.keras.utils.to_categorical(\n",
    "    y_test, num_classes=2, dtype='float32'\n",
    ")"
   ]
  },
  {
   "cell_type": "code",
   "execution_count": 18,
   "id": "08dc683e-5ef3-447e-8d39-bc2c04cae964",
   "metadata": {
    "ExecuteTime": {
     "end_time": "2023-10-22T19:55:32.912142900Z",
     "start_time": "2023-10-22T19:55:32.616808800Z"
    }
   },
   "outputs": [
    {
     "name": "stdout",
     "output_type": "stream",
     "text": [
      "Model: \"sequential_2\"\n",
      "_________________________________________________________________\n",
      " Layer (type)                Output Shape              Param #   \n",
      "=================================================================\n",
      " conv2d_2 (Conv2D)           (None, 6, 6, 2048)        20480     \n",
      "                                                                 \n",
      " max_pooling2d (MaxPooling2  (None, 3, 3, 2048)        0         \n",
      " D)                                                              \n",
      "                                                                 \n",
      " dropout (Dropout)           (None, 3, 3, 2048)        0         \n",
      "                                                                 \n",
      " dense (Dense)               (None, 3, 3, 64)          131136    \n",
      "                                                                 \n",
      " dropout_1 (Dropout)         (None, 3, 3, 64)          0         \n",
      "                                                                 \n",
      " dense_1 (Dense)             (None, 3, 3, 64)          4160      \n",
      "                                                                 \n",
      " dropout_2 (Dropout)         (None, 3, 3, 64)          0         \n",
      "                                                                 \n",
      " flatten (Flatten)           (None, 576)               0         \n",
      "                                                                 \n",
      " dense_2 (Dense)             (None, 1)                 577       \n",
      "                                                                 \n",
      "=================================================================\n",
      "Total params: 156353 (610.75 KB)\n",
      "Trainable params: 156353 (610.75 KB)\n",
      "Non-trainable params: 0 (0.00 Byte)\n",
      "_________________________________________________________________\n"
     ]
    }
   ],
   "source": [
    "# Initialize a sequential model\n",
    "model = Sequential()\n",
    "\n",
    "model.add(Conv2D(filters=2048, kernel_size=(3,3), activation=\"relu\", input_shape=(X_train.shape[1], X_train.shape[2], X_train.shape[3])))\n",
    "model.add(MaxPooling2D((2,2)))\n",
    "model.add(Dropout(0.2))         # Adding dropout to prevent overfitting\n",
    "\n",
    "# Second LSTM layer with 64 units and return sequences\n",
    "model.add(Dense(units=64, activation=\"relu\"))\n",
    "model.add(Dropout(0.2))\n",
    "\n",
    "# Third LSTM layer with 64 units\n",
    "model.add(Dense(units=64, activation=\"relu\"))\n",
    "model.add(Dropout(0.2))\n",
    "\n",
    "# Add a dense output layer with one unit\n",
    "model.add(Flatten())\n",
    "model.add(Dense(1))\n",
    "\n",
    "model.summary()\n"
   ]
  },
  {
   "cell_type": "code",
   "execution_count": 19,
   "id": "565a62fc-eafa-470c-a278-fe1844b21eb4",
   "metadata": {
    "ExecuteTime": {
     "end_time": "2023-10-22T19:55:32.912142900Z",
     "start_time": "2023-10-22T19:55:32.771161400Z"
    }
   },
   "outputs": [],
   "source": [
    "model.compile(loss='mse',optimizer='adam')"
   ]
  },
  {
   "cell_type": "code",
   "execution_count": 20,
   "id": "cdc28153-36e6-4fcc-97ae-9a16d21ee5c1",
   "metadata": {
    "ExecuteTime": {
     "end_time": "2023-10-22T19:57:46.510043400Z",
     "start_time": "2023-10-22T19:55:32.796227400Z"
    }
   },
   "outputs": [
    {
     "name": "stdout",
     "output_type": "stream",
     "text": [
      "Epoch 1/24\n",
      "609/609 [==============================] - 9s 12ms/step - loss: 0.2527 - val_loss: 0.2500\n",
      "Epoch 2/24\n",
      "609/609 [==============================] - 8s 13ms/step - loss: 0.2504 - val_loss: 0.2500\n",
      "Epoch 3/24\n",
      "609/609 [==============================] - 7s 11ms/step - loss: 0.2503 - val_loss: 0.2500\n",
      "Epoch 4/24\n",
      "609/609 [==============================] - 7s 12ms/step - loss: 0.2502 - val_loss: 0.2500\n",
      "Epoch 5/24\n",
      "609/609 [==============================] - 7s 12ms/step - loss: 0.2502 - val_loss: 0.2500\n",
      "Epoch 6/24\n",
      "609/609 [==============================] - 7s 12ms/step - loss: 0.2501 - val_loss: 0.2500\n",
      "Epoch 7/24\n",
      "609/609 [==============================] - 7s 11ms/step - loss: 0.2501 - val_loss: 0.2500\n",
      "Epoch 8/24\n",
      "609/609 [==============================] - 7s 11ms/step - loss: 0.2501 - val_loss: 0.2500\n",
      "Epoch 9/24\n",
      "609/609 [==============================] - 7s 12ms/step - loss: 0.2501 - val_loss: 0.2500\n",
      "Epoch 10/24\n",
      "609/609 [==============================] - 7s 11ms/step - loss: 0.2501 - val_loss: 0.2500\n",
      "Epoch 11/24\n",
      "609/609 [==============================] - 6s 11ms/step - loss: 0.2501 - val_loss: 0.2500\n",
      "Epoch 12/24\n",
      "609/609 [==============================] - 7s 11ms/step - loss: 0.2500 - val_loss: 0.2500\n",
      "Epoch 13/24\n",
      "609/609 [==============================] - 7s 11ms/step - loss: 0.2500 - val_loss: 0.2500\n",
      "Epoch 14/24\n",
      "609/609 [==============================] - 7s 11ms/step - loss: 0.2500 - val_loss: 0.2500\n",
      "Epoch 15/24\n",
      "609/609 [==============================] - 7s 11ms/step - loss: 0.2500 - val_loss: 0.2500\n",
      "Epoch 16/24\n",
      "609/609 [==============================] - 7s 11ms/step - loss: 0.2500 - val_loss: 0.2500\n",
      "Epoch 17/24\n",
      "609/609 [==============================] - 7s 11ms/step - loss: 0.2500 - val_loss: 0.2500\n",
      "Epoch 18/24\n",
      "609/609 [==============================] - 8s 12ms/step - loss: 0.2500 - val_loss: 0.2500\n",
      "Epoch 19/24\n",
      "609/609 [==============================] - 7s 11ms/step - loss: 0.2500 - val_loss: 0.2500\n"
     ]
    },
    {
     "data": {
      "text/plain": "<keras.src.callbacks.History at 0x1a55b949210>"
     },
     "execution_count": 20,
     "metadata": {},
     "output_type": "execute_result"
    }
   ],
   "source": [
    "# Defining our callbacks\n",
    "checkpoints = ModelCheckpoint(filepath = 'my_weights.h5', save_best_only = True)\n",
    "# Defining our early stopping\n",
    "early_stopping = EarlyStopping(monitor='val_loss', patience=15, restore_best_weights=True)\n",
    "\n",
    "# Training our lstm model\n",
    "model.fit(X_train, y_Train,\n",
    "          validation_split=0.2,\n",
    "          epochs=24,\n",
    "          batch_size=8,\n",
    "          verbose=1,\n",
    "          callbacks= [checkpoints, early_stopping])"
   ]
  },
  {
   "cell_type": "code",
   "execution_count": 21,
   "id": "bb1e954c-b4e3-428b-a2d6-ff44ed66a6b3",
   "metadata": {
    "ExecuteTime": {
     "end_time": "2023-10-22T19:57:49.097740100Z",
     "start_time": "2023-10-22T19:57:46.509041400Z"
    }
   },
   "outputs": [
    {
     "name": "stdout",
     "output_type": "stream",
     "text": [
      "191/191 [==============================] - 2s 9ms/step\n",
      "48/48 [==============================] - 0s 9ms/step\n"
     ]
    }
   ],
   "source": [
    "# Let's do the prediction and check performance metrics\n",
    "train_predict=model.predict(X_train)\n",
    "test_predict=model.predict(X_test)"
   ]
  },
  {
   "cell_type": "code",
   "execution_count": 22,
   "id": "743e3dd3-b2aa-4e52-9540-5f7b6bc44719",
   "metadata": {
    "ExecuteTime": {
     "end_time": "2023-10-22T19:57:49.136495300Z",
     "start_time": "2023-10-22T19:57:49.097740100Z"
    }
   },
   "outputs": [
    {
     "name": "stdout",
     "output_type": "stream",
     "text": [
      "(6089,)\n",
      "(1517,)\n",
      "(6089,)\n",
      "(1517,)\n",
      "0.5033667268845459\n",
      "0.5042847725774555\n"
     ]
    }
   ],
   "source": [
    "# Transform back to original form\n",
    "# train_predict=scaler.inverse_transform(train_predict)\n",
    "# test_predict=scaler.inverse_transform(test_predict)\n",
    "\n",
    "train_movement=np.array(df_train[\"Movement\"][past:])\n",
    "test_movement=np.array(df_test[\"Movement\"][past:])\n",
    "print(train_movement.shape)\n",
    "print(test_movement.shape)\n",
    "\n",
    "train_decision = np.argmax(train_predict, axis=1)\n",
    "test_decision = np.argmax(test_predict, axis=1)\n",
    "print(train_decision.shape)\n",
    "print(test_decision.shape)\n",
    "\n",
    "counter = 0\n",
    "good = 0\n",
    "for i in range(0, len(train_movement)):\n",
    "    if train_movement[i] == train_decision[i]:\n",
    "        good +=1\n",
    "    counter+=1\n",
    "print(f\"{good/counter}\")\n",
    "\n",
    "counter = 0\n",
    "good = 0\n",
    "for i in range(0, len(test_movement)):\n",
    "    if train_movement[i] == train_decision[i]:\n",
    "        good +=1\n",
    "    counter+=1\n",
    "print(f\"{good/counter}\")\n"
   ]
  },
  {
   "cell_type": "code",
   "execution_count": 22,
   "id": "771911aa-91f4-4a68-a1fb-574a2add6ccc",
   "metadata": {
    "ExecuteTime": {
     "end_time": "2023-10-22T19:57:49.136495300Z",
     "start_time": "2023-10-22T19:57:49.114174300Z"
    }
   },
   "outputs": [],
   "source": []
  }
 ],
 "metadata": {
  "kernelspec": {
   "display_name": "Python 3 (ipykernel)",
   "language": "python",
   "name": "python3"
  },
  "language_info": {
   "codemirror_mode": {
    "name": "ipython",
    "version": 3
   },
   "file_extension": ".py",
   "mimetype": "text/x-python",
   "name": "python",
   "nbconvert_exporter": "python",
   "pygments_lexer": "ipython3",
   "version": "3.11.5"
  }
 },
 "nbformat": 4,
 "nbformat_minor": 5
}
