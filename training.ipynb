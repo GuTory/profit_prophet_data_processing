{
 "cells": [
  {
   "cell_type": "code",
   "execution_count": 16,
   "id": "cf9e639c-ef28-48ba-968d-f375117e200f",
   "metadata": {},
   "outputs": [
    {
     "data": {
      "text/html": [
       "<div>\n",
       "<style scoped>\n",
       "    .dataframe tbody tr th:only-of-type {\n",
       "        vertical-align: middle;\n",
       "    }\n",
       "\n",
       "    .dataframe tbody tr th {\n",
       "        vertical-align: top;\n",
       "    }\n",
       "\n",
       "    .dataframe thead th {\n",
       "        text-align: right;\n",
       "    }\n",
       "</style>\n",
       "<table border=\"1\" class=\"dataframe\">\n",
       "  <thead>\n",
       "    <tr style=\"text-align: right;\">\n",
       "      <th></th>\n",
       "      <th>Date</th>\n",
       "      <th>Open</th>\n",
       "      <th>High</th>\n",
       "      <th>Low</th>\n",
       "      <th>Close</th>\n",
       "      <th>Adj Close</th>\n",
       "      <th>Volume</th>\n",
       "      <th>Ticker</th>\n",
       "    </tr>\n",
       "  </thead>\n",
       "  <tbody>\n",
       "    <tr>\n",
       "      <th>0</th>\n",
       "      <td>0.650247</td>\n",
       "      <td>1.783385e-10</td>\n",
       "      <td>1.959764e-10</td>\n",
       "      <td>1.678358e-10</td>\n",
       "      <td>1.814016e-10</td>\n",
       "      <td>0.99215</td>\n",
       "      <td>0.003475</td>\n",
       "      <td>0.000124</td>\n",
       "    </tr>\n",
       "    <tr>\n",
       "      <th>1</th>\n",
       "      <td>0.650294</td>\n",
       "      <td>1.682947e-10</td>\n",
       "      <td>1.685397e-10</td>\n",
       "      <td>1.670490e-10</td>\n",
       "      <td>1.664565e-10</td>\n",
       "      <td>0.99215</td>\n",
       "      <td>0.000846</td>\n",
       "      <td>0.000124</td>\n",
       "    </tr>\n",
       "    <tr>\n",
       "      <th>2</th>\n",
       "      <td>0.650435</td>\n",
       "      <td>1.619255e-10</td>\n",
       "      <td>1.724592e-10</td>\n",
       "      <td>1.680980e-10</td>\n",
       "      <td>1.814016e-10</td>\n",
       "      <td>0.99215</td>\n",
       "      <td>0.000365</td>\n",
       "      <td>0.000124</td>\n",
       "    </tr>\n",
       "    <tr>\n",
       "      <th>3</th>\n",
       "      <td>0.650482</td>\n",
       "      <td>1.665799e-10</td>\n",
       "      <td>1.709894e-10</td>\n",
       "      <td>1.678358e-10</td>\n",
       "      <td>1.649105e-10</td>\n",
       "      <td>0.99215</td>\n",
       "      <td>0.000332</td>\n",
       "      <td>0.000124</td>\n",
       "    </tr>\n",
       "    <tr>\n",
       "      <th>4</th>\n",
       "      <td>0.650529</td>\n",
       "      <td>1.572711e-10</td>\n",
       "      <td>1.643752e-10</td>\n",
       "      <td>1.678358e-10</td>\n",
       "      <td>1.692909e-10</td>\n",
       "      <td>0.99215</td>\n",
       "      <td>0.000269</td>\n",
       "      <td>0.000124</td>\n",
       "    </tr>\n",
       "  </tbody>\n",
       "</table>\n",
       "</div>"
      ],
      "text/plain": [
       "       Date          Open          High           Low         Close  \\\n",
       "0  0.650247  1.783385e-10  1.959764e-10  1.678358e-10  1.814016e-10   \n",
       "1  0.650294  1.682947e-10  1.685397e-10  1.670490e-10  1.664565e-10   \n",
       "2  0.650435  1.619255e-10  1.724592e-10  1.680980e-10  1.814016e-10   \n",
       "3  0.650482  1.665799e-10  1.709894e-10  1.678358e-10  1.649105e-10   \n",
       "4  0.650529  1.572711e-10  1.643752e-10  1.678358e-10  1.692909e-10   \n",
       "\n",
       "   Adj Close    Volume    Ticker  \n",
       "0    0.99215  0.003475  0.000124  \n",
       "1    0.99215  0.000846  0.000124  \n",
       "2    0.99215  0.000365  0.000124  \n",
       "3    0.99215  0.000332  0.000124  \n",
       "4    0.99215  0.000269  0.000124  "
      ]
     },
     "execution_count": 16,
     "metadata": {},
     "output_type": "execute_result"
    }
   ],
   "source": [
    "import os\n",
    "import pandas as pd\n",
    "import tensorflow as tf\n",
    "from tensorflow import keras\n",
    "from keras import Sequential\n",
    "from keras.layers import Dense\n",
    "\n",
    "f = os.path.join(\"data_scaled_sum\", \"data.csv\")\n",
    "\n",
    "df = pd.read_csv(f)\n",
    "df.head()"
   ]
  },
  {
   "cell_type": "code",
   "execution_count": 34,
   "id": "08c1d519-d9bb-4117-8bc5-c3b68fcfa120",
   "metadata": {},
   "outputs": [],
   "source": [
    "train = df.drop(\"Close\", axis=\"columns\")\n",
    "train_close = df[\"Close\"].shift(-10)\n",
    "\n",
    "(h, w) = train.shape"
   ]
  },
  {
   "cell_type": "code",
   "execution_count": 35,
   "id": "e555e363-3695-4f47-8edd-000dbb00ae7e",
   "metadata": {},
   "outputs": [
    {
     "name": "stdout",
     "output_type": "stream",
     "text": [
      "Model: \"sequential_5\"\n",
      "_________________________________________________________________\n",
      " Layer (type)                Output Shape              Param #   \n",
      "=================================================================\n",
      " dense_15 (Dense)            (None, 128)               1024      \n",
      "                                                                 \n",
      " dense_16 (Dense)            (None, 128)               16512     \n",
      "                                                                 \n",
      " dense_17 (Dense)            (None, 1)                 129       \n",
      "                                                                 \n",
      "=================================================================\n",
      "Total params: 17665 (69.00 KB)\n",
      "Trainable params: 17665 (69.00 KB)\n",
      "Non-trainable params: 0 (0.00 Byte)\n",
      "_________________________________________________________________\n"
     ]
    }
   ],
   "source": [
    "model = Sequential()\n",
    "model.add(Dense(128, activation='relu', input_shape=(w,)))\n",
    "model.add(Dense(128, activation='relu'))\n",
    "model.add(Dense(1))\n",
    "\n",
    "model.summary()"
   ]
  },
  {
   "cell_type": "code",
   "execution_count": 36,
   "id": "e5360ae5-0758-444e-97db-eab75cf94a75",
   "metadata": {},
   "outputs": [
    {
     "name": "stdout",
     "output_type": "stream",
     "text": [
      "Epoch 1/8\n",
      "109955/109955 [==============================] - 239s 2ms/step - loss: nan - mae: nan\n",
      "Epoch 2/8\n",
      "109955/109955 [==============================] - 246s 2ms/step - loss: nan - mae: nan\n",
      "Epoch 3/8\n",
      "109955/109955 [==============================] - 236s 2ms/step - loss: nan - mae: nan\n",
      "Epoch 4/8\n",
      "109955/109955 [==============================] - 221s 2ms/step - loss: nan - mae: nan\n",
      "Epoch 5/8\n",
      "109955/109955 [==============================] - 241s 2ms/step - loss: nan - mae: nan\n",
      "Epoch 6/8\n",
      "109955/109955 [==============================] - 238s 2ms/step - loss: nan - mae: nan\n",
      "Epoch 7/8\n",
      "109955/109955 [==============================] - 238s 2ms/step - loss: nan - mae: nan\n",
      "Epoch 8/8\n",
      "109955/109955 [==============================] - 242s 2ms/step - loss: nan - mae: nan\n"
     ]
    }
   ],
   "source": [
    "optimizer = tf.keras.optimizers.RMSprop(0.001)\n",
    "metrics=['mae']\n",
    "\n",
    "model.compile(loss='mse', optimizer=optimizer, metrics=metrics)\n",
    "\n",
    "\n",
    "history = model.fit(train, train_close, batch_size=256, epochs=8)"
   ]
  },
  {
   "cell_type": "code",
   "execution_count": null,
   "id": "8261e68c-19fb-4118-986c-9eb553df41e6",
   "metadata": {},
   "outputs": [],
   "source": []
  }
 ],
 "metadata": {
  "kernelspec": {
   "display_name": "Python 3 (ipykernel)",
   "language": "python",
   "name": "python3"
  },
  "language_info": {
   "codemirror_mode": {
    "name": "ipython",
    "version": 3
   },
   "file_extension": ".py",
   "mimetype": "text/x-python",
   "name": "python",
   "nbconvert_exporter": "python",
   "pygments_lexer": "ipython3",
   "version": "3.11.5"
  }
 },
 "nbformat": 4,
 "nbformat_minor": 5
}
