{
 "cells": [
  {
   "cell_type": "code",
   "execution_count": 2,
   "id": "c7c4418c-495d-436f-a36b-bc86999b08b5",
   "metadata": {
    "ExecuteTime": {
     "end_time": "2023-10-27T06:19:33.397484900Z",
     "start_time": "2023-10-27T06:19:25.413179Z"
    }
   },
   "outputs": [],
   "source": [
    "# importing all libraries\n",
    "import math\n",
    "import random\n",
    "import datetime as dt\n",
    "import matplotlib.dates as mdates\n",
    "import matplotlib.pyplot as plt\n",
    "import tensorflow as tf\n",
    "import keras.callbacks\n",
    "from sklearn.preprocessing import MinMaxScaler\n",
    "from tensorflow.keras.models import Sequential\n",
    "from tensorflow.keras.layers import LSTM, Dense, Dropout, Flatten, Conv2D, MaxPooling2D\n",
    "from tensorflow.keras.callbacks import ModelCheckpoint, EarlyStopping\n",
    "from sklearn.metrics import mean_squared_error\n",
    "from sklearn.model_selection import train_test_split\n",
    "import numpy as np\n",
    "import pandas as pd\n",
    "import warnings\n",
    "warnings.filterwarnings(\"ignore\") "
   ]
  },
  {
   "cell_type": "code",
   "execution_count": 73,
   "id": "f5ad79e8-38a4-46fe-bdd0-0f37ae4f925f",
   "metadata": {
    "ExecuteTime": {
     "end_time": "2023-10-27T06:34:08.562055300Z",
     "start_time": "2023-10-27T06:34:08.422245300Z"
    }
   },
   "outputs": [
    {
     "data": {
      "text/plain": "        Date      Open      High       Low     Close  Adj Close   Volume  \\\n0 1962-01-02  0.092908  0.096026  0.092908  0.092908   0.035517   817400   \n1 1962-01-03  0.092908  0.094467  0.092908  0.094155   0.035994   778500   \n2 1962-01-04  0.094155  0.094467  0.093532  0.094155   0.035994   934200   \n3 1962-01-05  0.094155  0.094779  0.093844  0.094467   0.036113   934200   \n4 1962-01-08  0.094467  0.095714  0.092285  0.094155   0.035994  1245600   \n\n   Difference  Movement  \n0         NaN         0  \n1    0.001247         1  \n2    0.000000         0  \n3    0.000312         1  \n4   -0.000312         0  ",
      "text/html": "<div>\n<style scoped>\n    .dataframe tbody tr th:only-of-type {\n        vertical-align: middle;\n    }\n\n    .dataframe tbody tr th {\n        vertical-align: top;\n    }\n\n    .dataframe thead th {\n        text-align: right;\n    }\n</style>\n<table border=\"1\" class=\"dataframe\">\n  <thead>\n    <tr style=\"text-align: right;\">\n      <th></th>\n      <th>Date</th>\n      <th>Open</th>\n      <th>High</th>\n      <th>Low</th>\n      <th>Close</th>\n      <th>Adj Close</th>\n      <th>Volume</th>\n      <th>Difference</th>\n      <th>Movement</th>\n    </tr>\n  </thead>\n  <tbody>\n    <tr>\n      <th>0</th>\n      <td>1962-01-02</td>\n      <td>0.092908</td>\n      <td>0.096026</td>\n      <td>0.092908</td>\n      <td>0.092908</td>\n      <td>0.035517</td>\n      <td>817400</td>\n      <td>NaN</td>\n      <td>0</td>\n    </tr>\n    <tr>\n      <th>1</th>\n      <td>1962-01-03</td>\n      <td>0.092908</td>\n      <td>0.094467</td>\n      <td>0.092908</td>\n      <td>0.094155</td>\n      <td>0.035994</td>\n      <td>778500</td>\n      <td>0.001247</td>\n      <td>1</td>\n    </tr>\n    <tr>\n      <th>2</th>\n      <td>1962-01-04</td>\n      <td>0.094155</td>\n      <td>0.094467</td>\n      <td>0.093532</td>\n      <td>0.094155</td>\n      <td>0.035994</td>\n      <td>934200</td>\n      <td>0.000000</td>\n      <td>0</td>\n    </tr>\n    <tr>\n      <th>3</th>\n      <td>1962-01-05</td>\n      <td>0.094155</td>\n      <td>0.094779</td>\n      <td>0.093844</td>\n      <td>0.094467</td>\n      <td>0.036113</td>\n      <td>934200</td>\n      <td>0.000312</td>\n      <td>1</td>\n    </tr>\n    <tr>\n      <th>4</th>\n      <td>1962-01-08</td>\n      <td>0.094467</td>\n      <td>0.095714</td>\n      <td>0.092285</td>\n      <td>0.094155</td>\n      <td>0.035994</td>\n      <td>1245600</td>\n      <td>-0.000312</td>\n      <td>0</td>\n    </tr>\n  </tbody>\n</table>\n</div>"
     },
     "execution_count": 73,
     "metadata": {},
     "output_type": "execute_result"
    }
   ],
   "source": [
    "# Defining ticker and reading data\n",
    "\n",
    "ticker = \"DIS\"\n",
    "\n",
    "RUN_NAME = f\"{ticker} dense classification\"\n",
    "\n",
    "df = pd.read_csv(f'data/stocks/{ticker}.csv', parse_dates=['Date'])\n",
    "df[\"Difference\"] = df[\"Close\"].diff()\n",
    "df[\"Movement\"] = df.apply(lambda x: 1 if x[\"Difference\"] > 0 else 0, axis=1)\n",
    "df.head()"
   ]
  },
  {
   "cell_type": "code",
   "execution_count": 74,
   "id": "a4e2d5da-9823-4ad2-87ce-bea6e1736d62",
   "metadata": {
    "ExecuteTime": {
     "end_time": "2023-10-27T06:34:08.591024500Z",
     "start_time": "2023-10-27T06:34:08.562055300Z"
    }
   },
   "outputs": [
    {
     "data": {
      "text/plain": "           Date      Open      High       Low     Close  Adj Close   Volume  \\\n7041 1990-01-02  9.207334  9.515615  9.207334  9.495063   5.506028  6983400   \n7042 1990-01-03  9.495063  9.577271  9.464234  9.515615   5.517947  8077000   \n7043 1990-01-04  9.515615  9.608099  9.412854  9.505339   5.511988  7721800   \n7044 1990-01-05  9.505339  9.597823  9.495063  9.536166   5.529861  3961800   \n7045 1990-01-08  9.536166  9.680031  9.525890  9.608099   5.642580  6647700   \n\n      Difference  Movement  \n7041    0.287729         1  \n7042    0.020552         1  \n7043   -0.010276         0  \n7044    0.030828         1  \n7045    0.071933         1  ",
      "text/html": "<div>\n<style scoped>\n    .dataframe tbody tr th:only-of-type {\n        vertical-align: middle;\n    }\n\n    .dataframe tbody tr th {\n        vertical-align: top;\n    }\n\n    .dataframe thead th {\n        text-align: right;\n    }\n</style>\n<table border=\"1\" class=\"dataframe\">\n  <thead>\n    <tr style=\"text-align: right;\">\n      <th></th>\n      <th>Date</th>\n      <th>Open</th>\n      <th>High</th>\n      <th>Low</th>\n      <th>Close</th>\n      <th>Adj Close</th>\n      <th>Volume</th>\n      <th>Difference</th>\n      <th>Movement</th>\n    </tr>\n  </thead>\n  <tbody>\n    <tr>\n      <th>7041</th>\n      <td>1990-01-02</td>\n      <td>9.207334</td>\n      <td>9.515615</td>\n      <td>9.207334</td>\n      <td>9.495063</td>\n      <td>5.506028</td>\n      <td>6983400</td>\n      <td>0.287729</td>\n      <td>1</td>\n    </tr>\n    <tr>\n      <th>7042</th>\n      <td>1990-01-03</td>\n      <td>9.495063</td>\n      <td>9.577271</td>\n      <td>9.464234</td>\n      <td>9.515615</td>\n      <td>5.517947</td>\n      <td>8077000</td>\n      <td>0.020552</td>\n      <td>1</td>\n    </tr>\n    <tr>\n      <th>7043</th>\n      <td>1990-01-04</td>\n      <td>9.515615</td>\n      <td>9.608099</td>\n      <td>9.412854</td>\n      <td>9.505339</td>\n      <td>5.511988</td>\n      <td>7721800</td>\n      <td>-0.010276</td>\n      <td>0</td>\n    </tr>\n    <tr>\n      <th>7044</th>\n      <td>1990-01-05</td>\n      <td>9.505339</td>\n      <td>9.597823</td>\n      <td>9.495063</td>\n      <td>9.536166</td>\n      <td>5.529861</td>\n      <td>3961800</td>\n      <td>0.030828</td>\n      <td>1</td>\n    </tr>\n    <tr>\n      <th>7045</th>\n      <td>1990-01-08</td>\n      <td>9.536166</td>\n      <td>9.680031</td>\n      <td>9.525890</td>\n      <td>9.608099</td>\n      <td>5.642580</td>\n      <td>6647700</td>\n      <td>0.071933</td>\n      <td>1</td>\n    </tr>\n  </tbody>\n</table>\n</div>"
     },
     "execution_count": 74,
     "metadata": {},
     "output_type": "execute_result"
    }
   ],
   "source": [
    "# Defining a function that will contain stocks data, cutting data before 1990\n",
    "def specific_data(company, df, start = dt.datetime(1990,1,1), end = dt.datetime(2024,1,1)):\n",
    "    date_filtered_data = df[(df['Date'] > start) & (df['Date'] < end)]\n",
    "    return date_filtered_data\n",
    "\n",
    "df = specific_data(ticker, df)\n",
    "\n",
    "df.head()"
   ]
  },
  {
   "cell_type": "code",
   "execution_count": 75,
   "id": "4c1beab5-aca6-48db-ab93-287e9f098a32",
   "metadata": {
    "ExecuteTime": {
     "end_time": "2023-10-27T06:34:08.820942700Z",
     "start_time": "2023-10-27T06:34:08.752039100Z"
    }
   },
   "outputs": [
    {
     "name": "stdout",
     "output_type": "stream",
     "text": [
      "[0.01313076], [-0.09431765], \n",
      "(6097, 8)\n",
      "(1525, 8)\n"
     ]
    }
   ],
   "source": [
    "# Splitting to train and split set and scale all data \n",
    "\n",
    "scaler = MinMaxScaler()\n",
    "close_scaler = MinMaxScaler()\n",
    "without_date = df.drop( \"Date\", axis=\"columns\")\n",
    "\n",
    "df_train, df_test = train_test_split(without_date, test_size=0.2, shuffle=False)\n",
    "\n",
    "close_scaler.fit(np.array(df_train[\"Close\"]).reshape(-1,1))\n",
    "print(f\"{close_scaler.scale_}, {close_scaler.min_}, \")\n",
    "scaled_train = scaler.fit_transform(df_train)\n",
    "scaled_test = scaler.transform(df_test)\n",
    "\n",
    "print(scaled_train.shape)\n",
    "print(scaled_test.shape)"
   ]
  },
  {
   "cell_type": "code",
   "execution_count": 76,
   "id": "8878a9d9-82f4-426e-aacb-213cc2680bec",
   "metadata": {
    "ExecuteTime": {
     "end_time": "2023-10-27T06:34:08.941888900Z",
     "start_time": "2023-10-27T06:34:08.872360400Z"
    }
   },
   "outputs": [
    {
     "name": "stdout",
     "output_type": "stream",
     "text": [
      "Training set size:-\n",
      "(6083, 14, 8, 1)\n",
      "(6083,)\n",
      "Testing set size:-\n",
      "(1511, 14, 8, 1)\n",
      "(1511,)\n"
     ]
    },
    {
     "data": {
      "text/plain": "(None, None)"
     },
     "execution_count": 76,
     "metadata": {},
     "output_type": "execute_result"
    }
   ],
   "source": [
    "# preprocess data for LSTM with a sliding window\n",
    "\n",
    "past = 14\n",
    "\n",
    "# Prepare sequences for LSTM\n",
    "X_train, y_train = [], []\n",
    "for i in range(past, len(scaled_train)):\n",
    "    X_train.append(scaled_train[i - past:i])\n",
    "    y_train.append(scaled_train[i][-1])\n",
    "X_train, y_train = np.array(X_train), np.array(y_train)\n",
    "\n",
    "# Similarly prepare sequences for the test set\n",
    "X_test, y_test = [], []\n",
    "for i in range(past, len(scaled_test)):\n",
    "    X_test.append(scaled_test[i - past:i])\n",
    "    y_test.append(scaled_test[i][-1])\n",
    "X_test, y_test = np.array(X_test), np.array(y_test)\n",
    "\n",
    "X_test = np.reshape(X_test, (X_test.shape[0], X_test.shape[1], X_test.shape[2], 1))\n",
    "X_train = np.reshape(X_train, (X_train.shape[0], X_train.shape[1], X_train.shape[2], 1))\n",
    "\n",
    "print(\"Training set size:-\")\n",
    "print(X_train.shape), print(y_train.shape)\n",
    "print(\"Testing set size:-\")\n",
    "print(X_test.shape), print(y_test.shape)"
   ]
  },
  {
   "cell_type": "code",
   "execution_count": 77,
   "id": "ac1a88a5-4e28-4127-bd8c-b2d416b1973d",
   "metadata": {
    "ExecuteTime": {
     "end_time": "2023-10-27T06:34:09.091911800Z",
     "start_time": "2023-10-27T06:34:09.063210Z"
    }
   },
   "outputs": [],
   "source": [
    "\"\"\"\n",
    "y_Train = tf.keras.utils.to_categorical(\n",
    "    y_train, num_classes=2, dtype='float32'\n",
    ")\n",
    "y_Test = tf.keras.utils.to_categorical(\n",
    "    y_test, num_classes=2, dtype='float32'\n",
    ")\n",
    "\"\"\"\n",
    "# Logging for Tensorboard\n",
    "\n",
    "logger = keras.callbacks.TensorBoard(\n",
    "        log_dir=f\"logs/{RUN_NAME}\",\n",
    "        write_graph=True,\n",
    "        histogram_freq=64\n",
    "    )"
   ]
  },
  {
   "cell_type": "code",
   "execution_count": 78,
   "id": "08dc683e-5ef3-447e-8d39-bc2c04cae964",
   "metadata": {
    "ExecuteTime": {
     "end_time": "2023-10-27T06:34:09.352251300Z",
     "start_time": "2023-10-27T06:34:09.180835400Z"
    }
   },
   "outputs": [
    {
     "name": "stdout",
     "output_type": "stream",
     "text": [
      "Model: \"sequential_7\"\n",
      "_________________________________________________________________\n",
      " Layer (type)                Output Shape              Param #   \n",
      "=================================================================\n",
      " dense_28 (Dense)            (None, 14, 64)            576       \n",
      "                                                                 \n",
      " dropout_21 (Dropout)        (None, 14, 64)            0         \n",
      "                                                                 \n",
      " dense_29 (Dense)            (None, 14, 64)            4160      \n",
      "                                                                 \n",
      " dropout_22 (Dropout)        (None, 14, 64)            0         \n",
      "                                                                 \n",
      " dense_30 (Dense)            (None, 14, 64)            4160      \n",
      "                                                                 \n",
      " dropout_23 (Dropout)        (None, 14, 64)            0         \n",
      "                                                                 \n",
      " flatten_7 (Flatten)         (None, 896)               0         \n",
      "                                                                 \n",
      " dense_31 (Dense)            (None, 1)                 897       \n",
      "                                                                 \n",
      "=================================================================\n",
      "Total params: 9793 (38.25 KB)\n",
      "Trainable params: 9793 (38.25 KB)\n",
      "Non-trainable params: 0 (0.00 Byte)\n",
      "_________________________________________________________________\n"
     ]
    }
   ],
   "source": [
    "# Initialize a sequential model\n",
    "model = Sequential()\n",
    "\n",
    "model.add(Dense(units=64, activation='relu', input_shape=(X_train.shape[1], X_train.shape[2])))\n",
    "model.add(Dropout(0.2))\n",
    "\n",
    "model.add(Dense(units=64, activation=\"relu\"))\n",
    "model.add(Dropout(0.2))\n",
    "\n",
    "model.add(Dense(units=64, activation=\"relu\"))\n",
    "model.add(Dropout(0.2))\n",
    "\n",
    "model.add(Flatten())\n",
    "model.add(Dense(1))\n",
    "\n",
    "model.summary()\n"
   ]
  },
  {
   "cell_type": "code",
   "execution_count": 79,
   "id": "565a62fc-eafa-470c-a278-fe1844b21eb4",
   "metadata": {
    "ExecuteTime": {
     "end_time": "2023-10-27T06:34:09.473760900Z",
     "start_time": "2023-10-27T06:34:09.439769500Z"
    }
   },
   "outputs": [],
   "source": [
    "# Compiling model\n",
    "model.compile(loss='mse',optimizer='adam')"
   ]
  },
  {
   "cell_type": "code",
   "execution_count": 80,
   "id": "cdc28153-36e6-4fcc-97ae-9a16d21ee5c1",
   "metadata": {
    "ExecuteTime": {
     "end_time": "2023-10-27T06:34:52.465399200Z",
     "start_time": "2023-10-27T06:34:09.691082700Z"
    }
   },
   "outputs": [
    {
     "name": "stdout",
     "output_type": "stream",
     "text": [
      "Epoch 1/24\n",
      "609/609 [==============================] - 4s 4ms/step - loss: 0.2600 - val_loss: 0.2761\n",
      "Epoch 2/24\n",
      "609/609 [==============================] - 2s 4ms/step - loss: 0.2555 - val_loss: 0.2716\n",
      "Epoch 3/24\n",
      "609/609 [==============================] - 2s 4ms/step - loss: 0.2548 - val_loss: 0.2552\n",
      "Epoch 4/24\n",
      "609/609 [==============================] - 2s 4ms/step - loss: 0.2532 - val_loss: 0.2491\n",
      "Epoch 5/24\n",
      "609/609 [==============================] - 2s 4ms/step - loss: 0.2527 - val_loss: 0.2502\n",
      "Epoch 6/24\n",
      "609/609 [==============================] - 2s 4ms/step - loss: 0.2523 - val_loss: 0.2509\n",
      "Epoch 7/24\n",
      "609/609 [==============================] - 2s 3ms/step - loss: 0.2516 - val_loss: 0.2541\n",
      "Epoch 8/24\n",
      "609/609 [==============================] - 2s 3ms/step - loss: 0.2524 - val_loss: 0.2506\n",
      "Epoch 9/24\n",
      "609/609 [==============================] - 2s 4ms/step - loss: 0.2513 - val_loss: 0.2518\n",
      "Epoch 10/24\n",
      "609/609 [==============================] - 2s 3ms/step - loss: 0.2509 - val_loss: 0.2563\n",
      "Epoch 11/24\n",
      "609/609 [==============================] - 2s 3ms/step - loss: 0.2513 - val_loss: 0.2546\n",
      "Epoch 12/24\n",
      "609/609 [==============================] - 2s 3ms/step - loss: 0.2511 - val_loss: 0.2507\n",
      "Epoch 13/24\n",
      "609/609 [==============================] - 2s 4ms/step - loss: 0.2513 - val_loss: 0.2503\n",
      "Epoch 14/24\n",
      "609/609 [==============================] - 2s 3ms/step - loss: 0.2506 - val_loss: 0.2560\n",
      "Epoch 15/24\n",
      "609/609 [==============================] - 2s 3ms/step - loss: 0.2508 - val_loss: 0.2509\n",
      "Epoch 16/24\n",
      "609/609 [==============================] - 2s 4ms/step - loss: 0.2508 - val_loss: 0.2501\n",
      "Epoch 17/24\n",
      "609/609 [==============================] - 2s 3ms/step - loss: 0.2500 - val_loss: 0.2692\n",
      "Epoch 18/24\n",
      "609/609 [==============================] - 2s 3ms/step - loss: 0.2500 - val_loss: 0.2558\n",
      "Epoch 19/24\n",
      "609/609 [==============================] - 2s 4ms/step - loss: 0.2507 - val_loss: 0.2514\n"
     ]
    },
    {
     "data": {
      "text/plain": "<keras.src.callbacks.History at 0x2310a3a0050>"
     },
     "execution_count": 80,
     "metadata": {},
     "output_type": "execute_result"
    }
   ],
   "source": [
    "# Defining our callbacks\n",
    "checkpoints = ModelCheckpoint(filepath = 'my_weights.h5', save_best_only = True)\n",
    "# Defining our early stopping\n",
    "early_stopping = EarlyStopping(monitor='val_loss', patience=15, restore_best_weights=True)\n",
    "\n",
    "# Training our lstm model\n",
    "model.fit(X_train, y_train,\n",
    "          validation_split=0.2,\n",
    "          epochs=24,\n",
    "          batch_size=64,\n",
    "          verbose=1,\n",
    "          callbacks= [checkpoints, early_stopping, logger])"
   ]
  },
  {
   "cell_type": "code",
   "execution_count": 81,
   "id": "bb1e954c-b4e3-428b-a2d6-ff44ed66a6b3",
   "metadata": {
    "ExecuteTime": {
     "end_time": "2023-10-27T06:34:53.267463300Z",
     "start_time": "2023-10-27T06:34:52.465399200Z"
    }
   },
   "outputs": [
    {
     "name": "stdout",
     "output_type": "stream",
     "text": [
      "191/191 [==============================] - 0s 2ms/step\n",
      "48/48 [==============================] - 0s 2ms/step\n"
     ]
    }
   ],
   "source": [
    "# Prediction\n",
    "train_predict=model.predict(X_train)\n",
    "test_predict=model.predict(X_test)"
   ]
  },
  {
   "cell_type": "code",
   "execution_count": 82,
   "id": "743e3dd3-b2aa-4e52-9540-5f7b6bc44719",
   "metadata": {
    "ExecuteTime": {
     "end_time": "2023-10-27T06:34:53.283943500Z",
     "start_time": "2023-10-27T06:34:53.274383600Z"
    }
   },
   "outputs": [
    {
     "name": "stdout",
     "output_type": "stream",
     "text": [
      "(6083,)\n",
      "(1511,)\n",
      "(6083,)\n",
      "(1511,)\n",
      "0.5096169653131678\n",
      "0.5433487756452681\n"
     ]
    }
   ],
   "source": [
    "# Checking the direction of movement\n",
    "\n",
    "train_movement=np.array(df_train[\"Movement\"][past:])\n",
    "test_movement=np.array(df_test[\"Movement\"][past:])\n",
    "print(train_movement.shape)\n",
    "print(test_movement.shape)\n",
    "\n",
    "train_decision = np.argmax(train_predict, axis=1)\n",
    "test_decision = np.argmax(test_predict, axis=1)\n",
    "print(train_decision.shape)\n",
    "print(test_decision.shape)\n",
    "\n",
    "counter = 0\n",
    "good = 0\n",
    "for i in range(0, len(train_movement)):\n",
    "    if train_movement[i] == train_decision[i]:\n",
    "        good +=1\n",
    "    counter+=1\n",
    "print(f\"{good/counter}\")\n",
    "\n",
    "counter = 0\n",
    "good = 0\n",
    "for i in range(0, len(test_movement)):\n",
    "    if train_movement[i] == train_decision[i]:\n",
    "        good +=1\n",
    "    counter+=1\n",
    "print(f\"{good/counter}\")\n"
   ]
  }
 ],
 "metadata": {
  "kernelspec": {
   "display_name": "Python 3 (ipykernel)",
   "language": "python",
   "name": "python3"
  },
  "language_info": {
   "codemirror_mode": {
    "name": "ipython",
    "version": 3
   },
   "file_extension": ".py",
   "mimetype": "text/x-python",
   "name": "python",
   "nbconvert_exporter": "python",
   "pygments_lexer": "ipython3",
   "version": "3.11.5"
  }
 },
 "nbformat": 4,
 "nbformat_minor": 5
}
