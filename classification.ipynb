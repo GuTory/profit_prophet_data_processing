{
 "cells": [
  {
   "cell_type": "code",
   "execution_count": null,
   "id": "c7c4418c-495d-436f-a36b-bc86999b08b5",
   "metadata": {},
   "outputs": [
    {
     "name": "stderr",
     "output_type": "stream",
     "text": [
      "2023-10-22 21:54:00.649240: I tensorflow/core/platform/cpu_feature_guard.cc:182] This TensorFlow binary is optimized to use available CPU instructions in performance-critical operations.\n",
      "To enable the following instructions: AVX2 FMA, in other operations, rebuild TensorFlow with the appropriate compiler flags.\n"
     ]
    }
   ],
   "source": [
    "import numpy as np\n",
    "import pandas as pd\n",
    "import warnings\n",
    "warnings.filterwarnings(\"ignore\") \n",
    "\n",
    "# For processing\n",
    "import math\n",
    "import random\n",
    "import datetime as dt\n",
    "import matplotlib.dates as mdates\n",
    "\n",
    "# For visualization\n",
    "import matplotlib.pyplot as plt\n",
    "\n",
    "# Libraries for model training\n",
    "import tensorflow as tf\n",
    "from sklearn.preprocessing import MinMaxScaler\n",
    "from tensorflow.keras.models import Sequential\n",
    "from tensorflow.keras.layers import LSTM, Dense, Dropout, Flatten, Conv2D, MaxPooling2D\n",
    "from tensorflow.keras.callbacks import ModelCheckpoint, EarlyStopping\n",
    "from sklearn.metrics import mean_squared_error\n",
    "from sklearn.model_selection import train_test_split\n"
   ]
  },
  {
   "cell_type": "code",
   "execution_count": null,
   "id": "f5ad79e8-38a4-46fe-bdd0-0f37ae4f925f",
   "metadata": {},
   "outputs": [],
   "source": [
    "ticker = \"MSFT\"\n",
    "\n",
    "df = pd.read_csv(f'data/stocks/{ticker}.csv', parse_dates=['Date'])\n",
    "df[\"Difference\"] = df[\"Close\"].diff()\n",
    "df[\"Movement\"] = df.apply(lambda x: 1 if x[\"Difference\"] > 0 else 0, axis=1)\n",
    "df.head()"
   ]
  },
  {
   "cell_type": "code",
   "execution_count": null,
   "id": "a4e2d5da-9823-4ad2-87ce-bea6e1736d62",
   "metadata": {},
   "outputs": [],
   "source": [
    "# Defining a function that will contain stocks data for a specific company\n",
    "def specific_data(company, df, start = dt.datetime(1990,1,1), end = dt.datetime(2024,1,1)):\n",
    "    # df[\"Name\"] = company\n",
    "    date_filtered_data = df[(df['Date'] > start) & (df['Date'] < end)]\n",
    "    return date_filtered_data\n",
    "\n",
    "df = specific_data(ticker, df)\n",
    "\n",
    "df.head()"
   ]
  },
  {
   "cell_type": "code",
   "execution_count": null,
   "id": "4c1beab5-aca6-48db-ab93-287e9f098a32",
   "metadata": {},
   "outputs": [],
   "source": [
    "scaler = MinMaxScaler()\n",
    "close_scaler = MinMaxScaler()\n",
    "without_date = df.drop( \"Date\", axis=\"columns\")\n",
    "\n",
    "df_train, df_test = train_test_split(without_date, test_size=0.2, shuffle=False)\n",
    "\n",
    "close_scaler.fit(np.array(df_train[\"Close\"]).reshape(-1,1))\n",
    "print(f\"{close_scaler.scale_}, {close_scaler.min_}, \")\n",
    "scaled_train = scaler.fit_transform(df_train)\n",
    "scaled_test = scaler.transform(df_test)\n",
    "\n",
    "print(scaled_train.shape)\n",
    "print(scaled_test.shape)"
   ]
  },
  {
   "cell_type": "code",
   "execution_count": null,
   "id": "8878a9d9-82f4-426e-aacb-213cc2680bec",
   "metadata": {},
   "outputs": [],
   "source": [
    "past = 8\n",
    "\n",
    "# Prepare sequences for LSTM\n",
    "X_train, y_train = [], []\n",
    "for i in range(past, len(scaled_train)):\n",
    "    X_train.append(scaled_train[i - past:i])\n",
    "    y_train.append(scaled_train[i][-1])\n",
    "X_train, y_train = np.array(X_train), np.array(y_train)\n",
    "\n",
    "# Similarly prepare sequences for the test set\n",
    "X_test, y_test = [], []\n",
    "for i in range(past, len(scaled_test)):\n",
    "    X_test.append(scaled_test[i - past:i])\n",
    "    y_test.append(scaled_test[i][-1])\n",
    "X_test, y_test = np.array(X_test), np.array(y_test)\n",
    "\n",
    "X_test = np.reshape(X_test, (X_test.shape[0], X_test.shape[1], X_test.shape[2], 1))\n",
    "X_train = np.reshape(X_train, (X_train.shape[0], X_train.shape[1], X_train.shape[2], 1))\n",
    "\n",
    "print(\"Training set size:-\")\n",
    "print(X_train.shape), print(y_train.shape)\n",
    "print(\"Testing set size:-\")\n",
    "print(X_test.shape), print(y_test.shape)"
   ]
  },
  {
   "cell_type": "code",
   "execution_count": null,
   "id": "ac1a88a5-4e28-4127-bd8c-b2d416b1973d",
   "metadata": {},
   "outputs": [],
   "source": [
    "\"\"\"\n",
    "y_Train = tf.keras.utils.to_categorical(\n",
    "    y_train, num_classes=2, dtype='float32'\n",
    ")\n",
    "y_Test = tf.keras.utils.to_categorical(\n",
    "    y_test, num_classes=2, dtype='float32'\n",
    ")\n",
    "\"\"\""
   ]
  },
  {
   "cell_type": "code",
   "execution_count": null,
   "id": "08dc683e-5ef3-447e-8d39-bc2c04cae964",
   "metadata": {},
   "outputs": [],
   "source": [
    "# Initialize a sequential model\n",
    "model = Sequential()\n",
    "\n",
    "model.add(Conv2D(filters=2048, kernel_size=(3,3), activation=\"relu\", input_shape=(X_train.shape[1], X_train.shape[2], X_train.shape[3])))\n",
    "model.add(MaxPooling2D((2,2)))\n",
    "model.add(Dropout(0.2))         # Adding dropout to prevent overfitting\n",
    "\n",
    "# Second LSTM layer with 64 units and return sequences\n",
    "model.add(Dense(units=64, activation=\"relu\"))\n",
    "model.add(Dropout(0.2))\n",
    "\n",
    "# Third LSTM layer with 64 units\n",
    "model.add(Dense(units=64, activation=\"relu\"))\n",
    "model.add(Dropout(0.2))\n",
    "\n",
    "# Add a dense output layer with one unit\n",
    "model.add(Flatten())\n",
    "model.add(Dense(1))\n",
    "\n",
    "model.summary()\n"
   ]
  },
  {
   "cell_type": "code",
   "execution_count": null,
   "id": "565a62fc-eafa-470c-a278-fe1844b21eb4",
   "metadata": {},
   "outputs": [],
   "source": [
    "model.compile(loss='mse',optimizer='adam')"
   ]
  },
  {
   "cell_type": "code",
   "execution_count": null,
   "id": "cdc28153-36e6-4fcc-97ae-9a16d21ee5c1",
   "metadata": {},
   "outputs": [],
   "source": [
    "# Defining our callbacks\n",
    "checkpoints = ModelCheckpoint(filepath = 'my_weights.h5', save_best_only = True)\n",
    "# Defining our early stopping\n",
    "early_stopping = EarlyStopping(monitor='val_loss', patience=15, restore_best_weights=True)\n",
    "\n",
    "# Training our lstm model\n",
    "model.fit(X_train, y_Train,\n",
    "          validation_split=0.2,\n",
    "          epochs=24,\n",
    "          batch_size=8,\n",
    "          verbose=1,\n",
    "          callbacks= [checkpoints, early_stopping])"
   ]
  },
  {
   "cell_type": "code",
   "execution_count": null,
   "id": "bb1e954c-b4e3-428b-a2d6-ff44ed66a6b3",
   "metadata": {},
   "outputs": [],
   "source": [
    "# Let's do the prediction and check performance metrics\n",
    "train_predict=model.predict(X_train)\n",
    "test_predict=model.predict(X_test)"
   ]
  },
  {
   "cell_type": "code",
   "execution_count": null,
   "id": "743e3dd3-b2aa-4e52-9540-5f7b6bc44719",
   "metadata": {},
   "outputs": [],
   "source": [
    "# Transform back to original form\n",
    "# train_predict=scaler.inverse_transform(train_predict)\n",
    "# test_predict=scaler.inverse_transform(test_predict)\n",
    "\n",
    "train_movement=np.array(df_train[\"Movement\"][past:])\n",
    "test_movement=np.array(df_test[\"Movement\"][past:])\n",
    "print(train_movement.shape)\n",
    "print(test_movement.shape)\n",
    "\n",
    "train_decision = np.argmax(train_predict, axis=1)\n",
    "test_decision = np.argmax(test_predict, axis=1)\n",
    "print(train_decision.shape)\n",
    "print(test_decision.shape)\n",
    "\n",
    "counter = 0\n",
    "good = 0\n",
    "for i in range(0, len(train_movement)):\n",
    "    if train_movement[i] == train_decision[i]:\n",
    "        good +=1\n",
    "    counter+=1\n",
    "print(f\"{good/counter}\")\n",
    "\n",
    "counter = 0\n",
    "good = 0\n",
    "for i in range(0, len(test_movement)):\n",
    "    if train_movement[i] == train_decision[i]:\n",
    "        good +=1\n",
    "    counter+=1\n",
    "print(f\"{good/counter}\")\n"
   ]
  },
  {
   "cell_type": "code",
   "execution_count": null,
   "id": "771911aa-91f4-4a68-a1fb-574a2add6ccc",
   "metadata": {},
   "outputs": [],
   "source": []
  }
 ],
 "metadata": {
  "kernelspec": {
   "display_name": "Python 3 (ipykernel)",
   "language": "python",
   "name": "python3"
  },
  "language_info": {
   "codemirror_mode": {
    "name": "ipython",
    "version": 3
   },
   "file_extension": ".py",
   "mimetype": "text/x-python",
   "name": "python",
   "nbconvert_exporter": "python",
   "pygments_lexer": "ipython3",
   "version": "3.11.5"
  }
 },
 "nbformat": 4,
 "nbformat_minor": 5
}
